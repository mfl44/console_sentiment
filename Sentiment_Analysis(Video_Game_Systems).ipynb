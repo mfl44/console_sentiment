{
 "cells": [
  {
   "cell_type": "code",
   "execution_count": 1,
   "metadata": {
    "collapsed": true
   },
   "outputs": [],
   "source": [
    "import tweepy\n",
    "import textblob\n",
    "import pandas as pd\n",
    "import numpy as np\n",
    "import csv\n",
    "\n",
    "#setting up access to Twitter App\n",
    "api_key = 'Zt0jMOLNAoMChLRSSFu3hiGX7'\n",
    "api_secret = 'SRWSr62brD1I1SanBu01qRAppjwAFenDaSkvmbh2Fd63rJ8j9E'\n",
    "token = '1859101303-I4C7lCCGFMdmhKOxQL1cdzTF14qcu1rk7kfR5li'\n",
    "token_secret = 'KTB0t7w4sFddlskb7hIn9gVBa4c4xDsD8y4SZtYkvzFxt'\n",
    "\n",
    "#logging in to Twitter\n",
    "auth = tweepy.OAuthHandler(api_key, api_secret)\n",
    "auth.set_access_token(token, token_secret)\n",
    "\n",
    "api = tweepy.API(auth) \n",
    "\n",
    "Nin_tweet_lst = [] #list to contain all Nintendo tweets\n",
    "Xbox_tweet_lst = [] #list to contain all Xbox tweets\n",
    "PS_tweet_lst = [] #list to contain all PlayStation tweets\n",
    "Nin_analysis_lst = [] #list to contain all Nintendo tweets\n",
    "Xbox_analysis_lst = [] #list to contain all Xbox tweets\n",
    "PS_analysis_lst = [] #list to contain all PlayStation tweets"
   ]
  },
  {
   "cell_type": "code",
   "execution_count": 2,
   "metadata": {
    "collapsed": true
   },
   "outputs": [],
   "source": [
    "#retrive last 500 tweets containing Nintendo Switch; store them in Nintendo tweet list\n",
    "for t in tweepy.Cursor(api.search, q='Nintendo Switch', lang='en').items(500):\n",
    "    Nin_tweet_lst.append(t.text.encode('utf-8'))\n",
    "    analysis = textblob.TextBlob(t.text)\n",
    "    a = analysis.sentiment\n",
    "    Nin_analysis_lst.append(a)"
   ]
  },
  {
   "cell_type": "code",
   "execution_count": 3,
   "metadata": {
    "collapsed": true
   },
   "outputs": [],
   "source": [
    "#retrive last 500 tweets containing Xbox One; store them in Xbox tweet list\n",
    "for t in tweepy.Cursor(api.search, q='Xbox One', lang='en').items(500):\n",
    "    Xbox_tweet_lst.append(t.text.encode('utf-8'))\n",
    "    analysis = textblob.TextBlob(t.text)\n",
    "    a = analysis.sentiment\n",
    "    Xbox_analysis_lst.append(a)"
   ]
  },
  {
   "cell_type": "code",
   "execution_count": 4,
   "metadata": {
    "collapsed": true
   },
   "outputs": [],
   "source": [
    "#retrive last 500 tweets containing PS4; store them in PlayStation tweet list\n",
    "for t in tweepy.Cursor(api.search, q='PS4', lang='en').items(500):\n",
    "    PS_tweet_lst.append(t.text.encode('utf-8'))\n",
    "    analysis = textblob.TextBlob(t.text)\n",
    "    a = analysis.sentiment\n",
    "    PS_analysis_lst.append(a)"
   ]
  },
  {
   "cell_type": "code",
   "execution_count": 5,
   "metadata": {
    "collapsed": true
   },
   "outputs": [],
   "source": [
    "#Create dataframes to house scraped data\n",
    "Nintendo_DF = pd.DataFrame({\n",
    "    'Tweet': Nin_tweet_lst,\n",
    "    'Sentiment': Nin_analysis_lst\n",
    "})\n",
    "\n",
    "Xbox_DF = pd.DataFrame({\n",
    "    'Tweet': Xbox_tweet_lst,\n",
    "    'Sentiment': Xbox_analysis_lst\n",
    "})\n",
    "\n",
    "PS_DF = pd.DataFrame({\n",
    "    'Tweet': PS_tweet_lst,\n",
    "    'Sentiment': PS_analysis_lst\n",
    "})"
   ]
  },
  {
   "cell_type": "code",
   "execution_count": 6,
   "metadata": {
    "collapsed": true
   },
   "outputs": [],
   "source": [
    "#Create separate DataFrame columns for Polarity & Subjectivity\n",
    "Nintendo_DF = Nintendo_DF.join(pd.DataFrame(Nintendo_DF['Sentiment'].astype(str).str.split(',').tolist(),columns=['Polarity', 'Subjectivity']))\n",
    "Xbox_DF = Xbox_DF.join(pd.DataFrame(Xbox_DF['Sentiment'].astype(str).str.split(',').tolist(),columns=['Polarity', 'Subjectivity']))\n",
    "PS_DF = PS_DF.join(pd.DataFrame(PS_DF['Sentiment'].astype(str).str.split(',').tolist(),columns=['Polarity', 'Subjectivity']))"
   ]
  },
  {
   "cell_type": "code",
   "execution_count": 7,
   "metadata": {
    "collapsed": true
   },
   "outputs": [],
   "source": [
    "#Remove unnecessary text from Polarity and Subjectivity columns; add extra column with console name\n",
    "Nintendo_DF['Polarity'] = Nintendo_DF['Polarity'].str.replace('=','').str.replace('(','').str.replace('Sentiment','').str.replace('polarity','')\n",
    "Nintendo_DF['Subjectivity'] = Nintendo_DF['Subjectivity'].str.replace('subjectivity=','').str.replace(')','')\n",
    "Nintendo_DF['Console'] = 'Nintendo Switch'\n",
    "\n",
    "Xbox_DF['Polarity'] = Xbox_DF['Polarity'].str.replace('=','').str.replace('(','').str.replace('Sentiment','').str.replace('polarity','')\n",
    "Xbox_DF['Subjectivity'] = Xbox_DF['Subjectivity'].str.replace('subjectivity=','').str.replace(')','')\n",
    "Xbox_DF['Console'] = 'Xbox One'\n",
    "\n",
    "PS_DF['Polarity'] = PS_DF['Polarity'].str.replace('=','').str.replace('(','').str.replace('Sentiment','').str.replace('polarity','')\n",
    "PS_DF['Subjectivity'] = PS_DF['Subjectivity'].str.replace('subjectivity=','').str.replace(')','')\n",
    "PS_DF['Console'] = 'PS4'"
   ]
  },
  {
   "cell_type": "code",
   "execution_count": 8,
   "metadata": {
    "collapsed": true
   },
   "outputs": [],
   "source": [
    "del PS_DF['Sentiment']\n",
    "del Nintendo_DF['Sentiment']\n",
    "del Xbox_DF['Sentiment']"
   ]
  },
  {
   "cell_type": "code",
   "execution_count": 9,
   "metadata": {},
   "outputs": [
    {
     "name": "stdout",
     "output_type": "stream",
     "text": [
      "<type 'str'>\n"
     ]
    }
   ],
   "source": [
    "print type(PS_DF['Tweet'][0])"
   ]
  },
  {
   "cell_type": "code",
   "execution_count": 10,
   "metadata": {
    "collapsed": true,
    "scrolled": true
   },
   "outputs": [],
   "source": [
    "PS_DF.to_csv('playstation_tweets.csv')\n",
    "Nintendo_DF.to_csv('nintendo_tweets.csv')\n",
    "Xbox_DF.to_csv('xbox_tweets.csv')"
   ]
  },
  {
   "cell_type": "code",
   "execution_count": 11,
   "metadata": {
    "collapsed": true
   },
   "outputs": [],
   "source": [
    "ConsoleSentiment_DF = Nintendo_DF.append([PS_DF, Xbox_DF])"
   ]
  },
  {
   "cell_type": "code",
   "execution_count": 13,
   "metadata": {
    "collapsed": true
   },
   "outputs": [],
   "source": [
    "ConsoleSentiment_DF.to_csv('ConsoleSentiment.csv')"
   ]
  },
  {
   "cell_type": "code",
   "execution_count": null,
   "metadata": {
    "collapsed": true
   },
   "outputs": [],
   "source": []
  }
 ],
 "metadata": {
  "kernelspec": {
   "display_name": "Python 2",
   "language": "python",
   "name": "python2"
  },
  "language_info": {
   "codemirror_mode": {
    "name": "ipython",
    "version": 2
   },
   "file_extension": ".py",
   "mimetype": "text/x-python",
   "name": "python",
   "nbconvert_exporter": "python",
   "pygments_lexer": "ipython2",
   "version": "2.7.13"
  }
 },
 "nbformat": 4,
 "nbformat_minor": 2
}
